{
  "nbformat": 4,
  "nbformat_minor": 0,
  "metadata": {
    "colab": {
      "provenance": []
    },
    "kernelspec": {
      "name": "python3",
      "display_name": "Python 3"
    },
    "language_info": {
      "name": "python"
    },
    "gpuClass": "standard"
  },
  "cells": [
    {
      "cell_type": "markdown",
      "source": [
        "<h1 align =\"center\">General Stats for the model</h1>"
      ],
      "metadata": {
        "id": "Y3IIJ0_C1Jq2"
      }
    },
    {
      "cell_type": "code",
      "source": [
        "from google.colab import drive\n",
        "drive.mount('/content/drive')"
      ],
      "metadata": {
        "id": "bTAUEpkJWicR",
        "colab": {
          "base_uri": "https://localhost:8080/"
        },
        "outputId": "f3af20fd-cdcc-4a56-8a7f-f926ce3b701c"
      },
      "execution_count": 1,
      "outputs": [
        {
          "output_type": "stream",
          "name": "stdout",
          "text": [
            "Mounted at /content/drive\n"
          ]
        }
      ]
    },
    {
      "cell_type": "code",
      "source": [
        "import numpy as np\n",
        "# Convert data to numpy arrays\n",
        "X = X = np.load('/content/drive/MyDrive/Data/input_data.npy')\n",
        "y = np.load('//content/drive/MyDrive/Data/output_labels.npy')\n",
        "y = y.ravel()\n",
        "\n",
        "from sklearn.model_selection import train_test_split\n",
        "X_train, X_test, y_train, y_test = train_test_split( X, y, test_size=0.15, random_state=42)\n",
        "# Train the Random Forest Classifier\n"
      ],
      "metadata": {
        "id": "11uzPLU5PUnq"
      },
      "execution_count": 2,
      "outputs": []
    },
    {
      "cell_type": "code",
      "source": [
        "import pickle\n",
        "with open('/content/drive/MyDrive/Data/svm_model.pkl', 'rb') as f:\n",
        "    SVM = pickle.load(f)\n",
        "with open('/content/drive/MyDrive/Data/knn_model.pkl', 'rb') as f:\n",
        "    KNN = pickle.load(f)\n",
        "with open('/content/drive/MyDrive/Data/NN.pkl', 'rb') as f:\n",
        "    NN = pickle.load(f)\n",
        "with open('/content/drive/MyDrive/Data/random_forest.pkl', 'rb') as f:\n",
        "    RF = pickle.load(f)\n",
        "with open('/content/drive/MyDrive/Data/random_forest_pca.pkl', 'rb') as f:\n",
        "    RF_pca = pickle.load(f)\n",
        "selected_features = np.load('/content/drive/MyDrive/Data/selected_features.npy')"
      ],
      "metadata": {
        "id": "DZmRTByhw5j2"
      },
      "execution_count": 14,
      "outputs": []
    },
    {
      "cell_type": "code",
      "source": [
        "def Rf_predicion(arr):\n",
        "  a4 = RF_pca.transform(arr)\n",
        "  a5 = a4[:, selected_features]\n",
        "  return RF.predict(a5)"
      ],
      "metadata": {
        "id": "vfp2rRTKxG0b"
      },
      "execution_count": null,
      "outputs": []
    },
    {
      "cell_type": "code",
      "source": [
        "a = SVM.predict(X_test)\n",
        "b = KNN.predict(X_test)\n",
        "c = NN.predict(X_test)\n",
        "d = Rf_predicion(X_test)\n",
        "c = 2*c\n",
        "majority = np.zeros_like(a)\n",
        "#majority voting\n",
        "majority[(a+b+c+d)>=3] = 1"
      ],
      "metadata": {
        "id": "RJIysPluxsbv"
      },
      "execution_count": 27,
      "outputs": []
    },
    {
      "cell_type": "code",
      "source": [
        "import matplotlib.pyplot as plt\n",
        "import numpy as np\n",
        "\n",
        "def calculate_confusion_matrix(y_true, y_pred):\n",
        "    true_positives =100* np.sum((y_true == 1) & (y_pred == 1))/y_true.shape[0]\n",
        "    true_negatives =100* np.sum((y_true == 0) & (y_pred == 0))/y_true.shape[0]\n",
        "    false_positives =100* np.sum((y_true == 0) & (y_pred == 1))/y_true.shape[0]\n",
        "    false_negatives =100* np.sum((y_true == 1) & (y_pred == 0))/y_true.shape[0]\n",
        "    return true_positives, true_negatives, false_positives, false_negatives\n",
        "\n",
        "def plot_confusion_matrix(true_positives, true_negatives, false_positives, false_negatives,title):\n",
        "    labels = ['True Positives', 'True Negatives', 'False Positives', 'False Negatives']\n",
        "    values = [true_positives, true_negatives, false_positives, false_negatives]\n",
        "    colors = ['green', 'green', 'red', 'red']\n",
        "\n",
        "    plt.bar(labels, values, color=colors)\n",
        "    plt.xlabel('')\n",
        "    plt.ylabel('Percentage')\n",
        "    plt.title(title)\n",
        "    plt.show()\n",
        "\n",
        "# Example usage\n",
        "y_true = np.array([1, 0, 1, 0, 1])\n",
        "y_pred = np.array([1, 1, 0, 0, 1])\n",
        "\n",
        "true_positives, true_negatives, false_positives, false_negatives = (calculate_confusion_matrix(y_test, majority))\n",
        "title = \"Confusion matrix for test data\"\n",
        "plot_confusion_matrix(true_positives, true_negatives, false_positives, false_negatives,title)\n"
      ],
      "metadata": {
        "colab": {
          "base_uri": "https://localhost:8080/",
          "height": 452
        },
        "id": "3HcyZ8-_xIMS",
        "outputId": "185b9440-f93a-4395-f8ea-e6dbe1c05a26"
      },
      "execution_count": 28,
      "outputs": [
        {
          "output_type": "display_data",
          "data": {
            "text/plain": [
              "<Figure size 640x480 with 1 Axes>"
            ],
            "image/png": "[encoded data removed]"
          },
          "metadata": {}
        }
      ]
    },
    {
      "cell_type": "code",
      "source": [
        "a = SVM.predict(X_train)\n",
        "b = KNN.predict(X_train)\n",
        "c = NN.predict(X_train)\n",
        "d = Rf_predicion(X_train)\n",
        "c = 2*c\n",
        "majority = np.zeros_like(a)\n",
        "#majority voting\n",
        "majority[(a+b+c+d)>=3] = 1"
      ],
      "metadata": {
        "id": "7NwWxEJ7yegR"
      },
      "execution_count": 29,
      "outputs": []
    },
    {
      "cell_type": "code",
      "source": [
        "\n",
        "true_positives, true_negatives, false_positives, false_negatives = (calculate_confusion_matrix(y_train, majority))\n",
        "title = \"Confusion matrix for training data\"\n",
        "plot_confusion_matrix(true_positives, true_negatives, false_positives, false_negatives,title)\n"
      ],
      "metadata": {
        "id": "KJYsbpt7zmvO",
        "outputId": "0b95e8e8-e0b7-4939-bc83-578e74850208",
        "colab": {
          "base_uri": "https://localhost:8080/",
          "height": 452
        }
      },
      "execution_count": 30,
      "outputs": [
        {
          "output_type": "display_data",
          "data": {
            "text/plain": [
              "<Figure size 640x480 with 1 Axes>"
            ],
            "image/png": "[encoded data removed]"
          },
          "metadata": {}
        }
      ]
    },
    {
      "cell_type": "code",
      "source": [
        "from sklearn.metrics import accuracy_score, precision_score, recall_score, f1_score\n",
        "\n",
        "def evaluate_model(model):\n",
        "    global X_train, y_train, X_test, y_test\n",
        "    # Training predictions\n",
        "    train_pred = model.predict(X_train)\n",
        "    # Testing predictions\n",
        "    test_pred = model.predict(X_test)\n",
        "\n",
        "    # Compute metrics on training data\n",
        "    train_accuracy = accuracy_score(y_train, train_pred)\n",
        "    train_precision = precision_score(y_train, train_pred)\n",
        "    train_recall = recall_score(y_train, train_pred)\n",
        "    train_f1 = f1_score(y_train, train_pred)\n",
        "\n",
        "    # Compute metrics on testing data\n",
        "    test_accuracy = accuracy_score(y_test, test_pred)\n",
        "    test_precision = precision_score(y_test, test_pred)\n",
        "    test_recall = recall_score(y_test, test_pred)\n",
        "    test_f1 = f1_score(y_test, test_pred)\n",
        "\n",
        "    # Return the metrics\n",
        "    return {\n",
        "        'Train Accuracy': train_accuracy,\n",
        "        'Train Precision': train_precision,\n",
        "        'Train Recall': train_recall,\n",
        "        'Train F1 Score': train_f1,\n",
        "        '______________':'______________',\n",
        "        'Test Accuracy': test_accuracy,\n",
        "        'Test Precision': test_precision,\n",
        "        'Test Recall': test_recall,\n",
        "        'Test F1 Score': test_f1\n",
        "    }\n"
      ],
      "metadata": {
        "id": "GiN_JchDPs2B"
      },
      "execution_count": 3,
      "outputs": []
    },
    {
      "cell_type": "code",
      "source": [
        "evaluate_model(SVM)"
      ],
      "metadata": {
        "colab": {
          "base_uri": "https://localhost:8080/"
        },
        "id": "vL-ZarKdP4ap",
        "outputId": "1cad9554-2a43-4b8e-c4a0-342491d7709a"
      },
      "execution_count": null,
      "outputs": [
        {
          "output_type": "execute_result",
          "data": {
            "text/plain": [
              "{'Train Accuracy': 0.9582199076813824,\n",
              " 'Train Precision': 0.9386391251518833,\n",
              " 'Train Recall': 0.9534094415303919,\n",
              " 'Train F1 Score': 0.9459666309505587,\n",
              " '______________': '______________',\n",
              " 'Test Accuracy': 0.9229222520107239,\n",
              " 'Test Precision': 0.9124579124579124,\n",
              " 'Test Recall': 0.8958677685950414,\n",
              " 'Test F1 Score': 0.9040867389491243}"
            ]
          },
          "metadata": {},
          "execution_count": 5
        }
      ]
    },
    {
      "cell_type": "code",
      "source": [
        "evaluate_model(KNN)"
      ],
      "metadata": {
        "id": "A1HZRlamOMuK"
      },
      "execution_count": null,
      "outputs": []
    },
    {
      "cell_type": "code",
      "source": [
        "evaluate_model(NN)"
      ],
      "metadata": {
        "id": "QAN5GmiJO6ki"
      },
      "execution_count": null,
      "outputs": []
    },
    {
      "cell_type": "markdown",
      "source": [],
      "metadata": {
        "id": "HBXNHXSd1G43"
      }
    },
    {
      "cell_type": "code",
      "source": [
        "\n",
        "def RF_evaluate_model():\n",
        "    global X_train, y_train, X_test, y_test\n",
        "    # Training predictions\n",
        "    train_pred = model.predict(X_train)\n",
        "    # Testing predictions\n",
        "    test_pred = model.predict(X_test)\n",
        "\n",
        "    # Compute metrics on training data\n",
        "    train_accuracy = accuracy_score(y_train, train_pred)\n",
        "    train_precision = precision_score(y_train, train_pred)\n",
        "    train_recall = recall_score(y_train, train_pred)\n",
        "    train_f1 = f1_score(y_train, train_pred)\n",
        "\n",
        "    # Compute metrics on testing data\n",
        "    test_accuracy = accuracy_score(y_test, test_pred)\n",
        "    test_precision = precision_score(y_test, test_pred)\n",
        "    test_recall = recall_score(y_test, test_pred)\n",
        "    test_f1 = f1_score(y_test, test_pred)\n",
        "\n",
        "    # Return the metrics\n",
        "    return {\n",
        "        'Train Accuracy': train_accuracy,\n",
        "        'Train Precision': train_precision,\n",
        "        'Train Recall': train_recall,\n",
        "        'Train F1 Score': train_f1,\n",
        "        '______________':'______________',\n",
        "        'Test Accuracy': test_accuracy,\n",
        "        'Test Precision': test_precision,\n",
        "        'Test Recall': test_recall,\n",
        "        'Test F1 Score': test_f1\n",
        "    }\n"
      ],
      "metadata": {
        "id": "5ZGv1sUhPXKi"
      },
      "execution_count": null,
      "outputs": []
    }
  ]
}