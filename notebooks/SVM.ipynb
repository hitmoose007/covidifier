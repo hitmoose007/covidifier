{
  "cells": [
    {
      "cell_type": "markdown",
      "source": [
        "<h1 align =\"center\">Developing the neural network</h1>"
      ],
      "metadata": {
        "id": "LT84BGWhobO_"
      }
    },
    {
      "cell_type": "code",
      "source": [
        "from google.colab import drive\n",
        "drive.mount('/content/drive')\n"
      ],
      "metadata": {
        "id": "nKU69dQWdhWg",
        "colab": {
          "base_uri": "https://localhost:8080/"
        },
        "outputId": "c37e1c6f-f90c-46b0-873e-edcf071219b2"
      },
      "execution_count": null,
      "outputs": [
        {
          "output_type": "stream",
          "name": "stdout",
          "text": [
            "Mounted at /content/drive\n"
          ]
        }
      ]
    },
    {
      "cell_type": "markdown",
      "source": [
        "<h2 align =\"center\">Importing the pre-processed data</h2>\n"
      ],
      "metadata": {
        "id": "FSVctwxyoisC"
      }
    },
    {
      "cell_type": "code",
      "source": [
        "import numpy as np\n",
        "X = np.load('/content/drive/MyDrive/Data/input_data.npy')\n",
        "y = np.load('/content/drive/MyDrive/Data/output_labels.npy')\n",
        "y = y.ravel()"
      ],
      "metadata": {
        "id": "fVMcO4TCdpoX"
      },
      "execution_count": null,
      "outputs": []
    },
    {
      "cell_type": "markdown",
      "source": [
        "<h2 align =\"center\">Splitting the data and feeding it into the NN model</h2>"
      ],
      "metadata": {
        "id": "lD9I2Ho1ooV-"
      }
    },
    {
      "cell_type": "code",
      "source": [
        "from sklearn.model_selection import train_test_split\n",
        "X_train, X_test, y_train, y_test = train_test_split( X, y, test_size=0.15, random_state=42)"
      ],
      "metadata": {
        "id": "J38CD-6PfMyY"
      },
      "execution_count": null,
      "outputs": []
    },
    {
      "cell_type": "code",
      "source": [
        "from sklearn import svm, datasets\n",
        "import sklearn.model_selection as model_selection\n",
        "from sklearn.metrics import accuracy_score\n",
        "from sklearn.metrics import f1_score"
      ],
      "metadata": {
        "id": "7N8I_DfASi3C"
      },
      "execution_count": null,
      "outputs": []
    },
    {
      "cell_type": "markdown",
      "source": [
        "<h2 align =\"center\">Tinkered the parameters to get the optimum combination of kernel, degree and regularization</h2>"
      ],
      "metadata": {
        "id": "qtb6mKj2o1JT"
      }
    },
    {
      "cell_type": "code",
      "source": [
        "\n",
        "poly = svm.SVC(kernel='poly', degree=3, C=1).fit(X_train, y_train)"
      ],
      "metadata": {
        "id": "9bk95GoQ0brp"
      },
      "execution_count": null,
      "outputs": []
    },
    {
      "cell_type": "code",
      "source": [
        "poly.score(X_train,y_train)"
      ],
      "metadata": {
        "colab": {
          "base_uri": "https://localhost:8080/"
        },
        "id": "putHMMGZUNl7",
        "outputId": "5ad9f6fd-0f2d-4d24-b8cf-c2f103c2ce29"
      },
      "execution_count": null,
      "outputs": [
        {
          "output_type": "execute_result",
          "data": {
            "text/plain": [
              "0.9582199076813824"
            ]
          },
          "metadata": {},
          "execution_count": 7
        }
      ]
    },
    {
      "cell_type": "code",
      "source": [
        "poly.score(X_test,y_test)"
      ],
      "metadata": {
        "colab": {
          "base_uri": "https://localhost:8080/"
        },
        "id": "KGAxy_r4VSfW",
        "outputId": "8559c045-5eae-4c1f-8e39-388956dfd8f0"
      },
      "execution_count": null,
      "outputs": [
        {
          "output_type": "execute_result",
          "data": {
            "text/plain": [
              "0.9229222520107239"
            ]
          },
          "metadata": {},
          "execution_count": 8
        }
      ]
    },
    {
      "cell_type": "code",
      "source": [
        "f1_score(poly.predict(X_train),y_train)"
      ],
      "metadata": {
        "colab": {
          "base_uri": "https://localhost:8080/"
        },
        "id": "F6_mZ5gtW24b",
        "outputId": "a8800d0c-bb8d-4cdb-c0fc-03d4fdf0421d"
      },
      "execution_count": null,
      "outputs": [
        {
          "output_type": "execute_result",
          "data": {
            "text/plain": [
              "0.9459666309505587"
            ]
          },
          "metadata": {},
          "execution_count": 9
        }
      ]
    },
    {
      "cell_type": "markdown",
      "source": [
        "<h2 align =\"center\">Storing the model for future predictions</h2>"
      ],
      "metadata": {
        "id": "m21EiKZ0pBMl"
      }
    },
    {
      "cell_type": "code",
      "source": [
        "import pickle\n",
        "with open('/content/drive/MyDrive/Data/svm_model.pkl', 'wb') as file:\n",
        "    pickle.dump(poly, file)\n",
        "file.close()"
      ],
      "metadata": {
        "id": "Jt1FDj7zXFHT"
      },
      "execution_count": null,
      "outputs": []
    },
    {
      "cell_type": "code",
      "source": [],
      "metadata": {
        "id": "EsMP-wWfUlVW"
      },
      "execution_count": null,
      "outputs": []
    }
  ],
  "metadata": {
    "accelerator": "TPU",
    "colab": {
      "provenance": [],
      "gpuType": "T4"
    },
    "gpuClass": "standard",
    "kernelspec": {
      "display_name": "Python 3",
      "name": "python3"
    },
    "language_info": {
      "name": "python"
    }
  },
  "nbformat": 4,
  "nbformat_minor": 0
}