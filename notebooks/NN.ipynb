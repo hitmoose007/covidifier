{
  "cells": [
    {
      "cell_type": "markdown",
      "source": [
        "<h1 align =\"center\">Developing the neural network</h1>"
      ],
      "metadata": {
        "id": "AHn9uDznnD2d"
      }
    },
    {
      "cell_type": "code",
      "execution_count": null,
      "metadata": {
        "id": "nKU69dQWdhWg"
      },
      "outputs": [],
      "source": [
        "from google.colab import drive\n",
        "drive.mount('/content/drive')"
      ]
    },
    {
      "cell_type": "markdown",
      "source": [
        "<h2 align =\"center\">Importing the pre-processed data</h2>\n"
      ],
      "metadata": {
        "id": "Iu0BaBv7nQf9"
      }
    },
    {
      "cell_type": "code",
      "execution_count": null,
      "metadata": {
        "id": "fVMcO4TCdpoX"
      },
      "outputs": [],
      "source": [
        "import numpy as np\n",
        "X = np.load('/content/drive/MyDrive/Data/input_data.npy')\n",
        "y = np.load('/content/drive/MyDrive/Data/output_labels.npy')\n",
        "y = y.ravel()"
      ]
    },
    {
      "cell_type": "markdown",
      "source": [
        "<h2 align =\"center\">Splitting the data and feeding it into the NN model</h2>"
      ],
      "metadata": {
        "id": "OPAhmYsdnZ1n"
      }
    },
    {
      "cell_type": "code",
      "execution_count": null,
      "metadata": {
        "id": "6HKIQuCSePXg"
      },
      "outputs": [],
      "source": [
        "from sklearn.neural_network import MLPClassifier\n",
        "import numpy as np\n",
        "from sklearn.model_selection import train_test_split\n",
        "X_train, X_test, y_train, y_test = train_test_split( X, y, test_size=0.15, random_state=42)"
      ]
    },
    {
      "cell_type": "code",
      "execution_count": null,
      "metadata": {
        "id": "y3_ewto2hOWR"
      },
      "outputs": [],
      "source": [
        "clf = MLPClassifier(max_iter=1000, random_state=42)\n",
        "clf.fit(X_train, y_train)"
      ]
    },
    {
      "cell_type": "markdown",
      "source": [
        "<h2 align =\"center\">Evaluating the model</h2>"
      ],
      "metadata": {
        "id": "b31X4lfsoDJc"
      }
    },
    {
      "cell_type": "code",
      "source": [
        "clf.score(X_train, y_train)"
      ],
      "metadata": {
        "id": "EYxR0MIveL1y"
      },
      "execution_count": null,
      "outputs": []
    },
    {
      "cell_type": "code",
      "source": [
        "clf.score(X_test, y_test)"
      ],
      "metadata": {
        "id": "hHBTuTCreL70"
      },
      "execution_count": null,
      "outputs": []
    },
    {
      "cell_type": "code",
      "source": [
        "from sklearn.metrics import precision_score\n",
        "precision_score(clf.predict(X_test), y_test)"
      ],
      "metadata": {
        "id": "OAzz_nayeUa_"
      },
      "execution_count": null,
      "outputs": []
    },
    {
      "cell_type": "code",
      "source": [
        "from sklearn.metrics import recall_score\n",
        "recall_score(clf.predict(X_test), y_test)"
      ],
      "metadata": {
        "id": "evqrbOImeUe4"
      },
      "execution_count": null,
      "outputs": []
    },
    {
      "cell_type": "markdown",
      "source": [
        "<h2 align =\"center\">Storing the model for future predictions</h2>"
      ],
      "metadata": {
        "id": "oHRuOHz8oJ8G"
      }
    },
    {
      "cell_type": "code",
      "execution_count": null,
      "metadata": {
        "id": "Io--_NfHiF5L"
      },
      "outputs": [],
      "source": [
        "import pickle\n",
        "with open('/content/drive/MyDrive/Data/NN_model.pkl', 'wb') as file:\n",
        "    pickle.dump(clf, file)\n",
        "file.close()"
      ]
    },
    {
      "cell_type": "code",
      "execution_count": null,
      "metadata": {
        "id": "9bk95GoQ0brp"
      },
      "outputs": [],
      "source": []
    }
  ],
  "metadata": {
    "colab": {
      "provenance": []
    },
    "gpuClass": "standard",
    "kernelspec": {
      "display_name": "Python 3",
      "name": "python3"
    },
    "language_info": {
      "name": "python"
    }
  },
  "nbformat": 4,
  "nbformat_minor": 0
}