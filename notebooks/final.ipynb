{
  "cells": [
    {
      "cell_type": "markdown",
      "source": [
        "<h2 align =\"center\">Notebook with a server that connects to web pages and sends the prediction for the lung xrays through majority voting on KNN,Neural Networks,SVM,Random Forests</h2>"
      ],
      "metadata": {
        "id": "bkR0XjRCtFqE"
      }
    },
    {
      "cell_type": "code",
      "execution_count": 1,
      "metadata": {
        "colab": {
          "base_uri": "https://localhost:8080/"
        },
        "id": "y1LynqXpOfA8",
        "outputId": "2a02f793-7e30-4d3b-c149-9497aa94c0b5"
      },
      "outputs": [
        {
          "output_type": "stream",
          "name": "stdout",
          "text": [
            "Mounted at /content/drive\n"
          ]
        }
      ],
      "source": [
        "from google.colab import drive\n",
        "drive.mount('/content/drive')"
      ]
    },
    {
      "cell_type": "code",
      "execution_count": null,
      "metadata": {
        "colab": {
          "base_uri": "https://localhost:8080/"
        },
        "id": "BGWSHhUdSRl5",
        "outputId": "ff8edf2f-e6c4-4dce-a9ca-c8917d2bfc65"
      },
      "outputs": [
        {
          "name": "stdout",
          "output_type": "stream",
          "text": [
            "Looking in indexes: https://pypi.org/simple, https://us-python.pkg.dev/colab-wheels/public/simple/\n",
            "Collecting fastapi\n",
            "  Downloading fastapi-0.95.1-py3-none-any.whl (56 kB)\n",
            "\u001b[2K     \u001b[90m━━━━━━━━━━━━━━━━━━━━━━━━━━━━━━━━━━━━━━━━\u001b[0m \u001b[32m57.0/57.0 kB\u001b[0m \u001b[31m4.2 MB/s\u001b[0m eta \u001b[36m0:00:00\u001b[0m\n",
            "\u001b[?25hRequirement already satisfied: pydantic!=1.7,!=1.7.1,!=1.7.2,!=1.7.3,!=1.8,!=1.8.1,<2.0.0,>=1.6.2 in /usr/local/lib/python3.10/dist-packages (from fastapi) (1.10.7)\n",
            "Collecting starlette<0.27.0,>=0.26.1 (from fastapi)\n",
            "  Downloading starlette-0.26.1-py3-none-any.whl (66 kB)\n",
            "\u001b[2K     \u001b[90m━━━━━━━━━━━━━━━━━━━━━━━━━━━━━━━━━━━━━━━━\u001b[0m \u001b[32m66.9/66.9 kB\u001b[0m \u001b[31m7.2 MB/s\u001b[0m eta \u001b[36m0:00:00\u001b[0m\n",
            "\u001b[?25hRequirement already satisfied: typing-extensions>=4.2.0 in /usr/local/lib/python3.10/dist-packages (from pydantic!=1.7,!=1.7.1,!=1.7.2,!=1.7.3,!=1.8,!=1.8.1,<2.0.0,>=1.6.2->fastapi) (4.5.0)\n",
            "Requirement already satisfied: anyio<5,>=3.4.0 in /usr/local/lib/python3.10/dist-packages (from starlette<0.27.0,>=0.26.1->fastapi) (3.6.2)\n",
            "Requirement already satisfied: idna>=2.8 in /usr/local/lib/python3.10/dist-packages (from anyio<5,>=3.4.0->starlette<0.27.0,>=0.26.1->fastapi) (3.4)\n",
            "Requirement already satisfied: sniffio>=1.1 in /usr/local/lib/python3.10/dist-packages (from anyio<5,>=3.4.0->starlette<0.27.0,>=0.26.1->fastapi) (1.3.0)\n",
            "Installing collected packages: starlette, fastapi\n",
            "Successfully installed fastapi-0.95.1 starlette-0.26.1\n",
            "Looking in indexes: https://pypi.org/simple, https://us-python.pkg.dev/colab-wheels/public/simple/\n",
            "Collecting pyngrok\n",
            "  Downloading pyngrok-6.0.0.tar.gz (681 kB)\n",
            "\u001b[2K     \u001b[90m━━━━━━━━━━━━━━━━━━━━━━━━━━━━━━━━━━━━━━\u001b[0m \u001b[32m681.2/681.2 kB\u001b[0m \u001b[31m20.6 MB/s\u001b[0m eta \u001b[36m0:00:00\u001b[0m\n",
            "\u001b[?25h  Preparing metadata (setup.py) ... \u001b[?25l\u001b[?25hdone\n",
            "Requirement already satisfied: PyYAML in /usr/local/lib/python3.10/dist-packages (from pyngrok) (6.0)\n",
            "Building wheels for collected packages: pyngrok\n",
            "  Building wheel for pyngrok (setup.py) ... \u001b[?25l\u001b[?25hdone\n",
            "  Created wheel for pyngrok: filename=pyngrok-6.0.0-py3-none-any.whl size=19867 sha256=5ec14cd98ea8da20b115eb3c76af7c5bfa07fb76885d62395e5e3e26aa130851\n",
            "  Stored in directory: /root/.cache/pip/wheels/5c/42/78/0c3d438d7f5730451a25f7ac6cbf4391759d22a67576ed7c2c\n",
            "Successfully built pyngrok\n",
            "Installing collected packages: pyngrok\n",
            "Successfully installed pyngrok-6.0.0\n",
            "Looking in indexes: https://pypi.org/simple, https://us-python.pkg.dev/colab-wheels/public/simple/\n",
            "Requirement already satisfied: nest-asyncio in /usr/local/lib/python3.10/dist-packages (1.5.6)\n",
            "Looking in indexes: https://pypi.org/simple, https://us-python.pkg.dev/colab-wheels/public/simple/\n",
            "Collecting uvicorn\n",
            "  Downloading uvicorn-0.22.0-py3-none-any.whl (58 kB)\n",
            "\u001b[2K     \u001b[90m━━━━━━━━━━━━━━━━━━━━━━━━━━━━━━━━━━━━━━━━\u001b[0m \u001b[32m58.3/58.3 kB\u001b[0m \u001b[31m4.5 MB/s\u001b[0m eta \u001b[36m0:00:00\u001b[0m\n",
            "\u001b[?25hRequirement already satisfied: click>=7.0 in /usr/local/lib/python3.10/dist-packages (from uvicorn) (8.1.3)\n",
            "Collecting h11>=0.8 (from uvicorn)\n",
            "  Downloading h11-0.14.0-py3-none-any.whl (58 kB)\n",
            "\u001b[2K     \u001b[90m━━━━━━━━━━━━━━━━━━━━━━━━━━━━━━━━━━━━━━━━\u001b[0m \u001b[32m58.3/58.3 kB\u001b[0m \u001b[31m7.2 MB/s\u001b[0m eta \u001b[36m0:00:00\u001b[0m\n",
            "\u001b[?25hInstalling collected packages: h11, uvicorn\n",
            "Successfully installed h11-0.14.0 uvicorn-0.22.0\n",
            "Looking in indexes: https://pypi.org/simple, https://us-python.pkg.dev/colab-wheels/public/simple/\n",
            "Collecting python-multipart\n",
            "  Downloading python_multipart-0.0.6-py3-none-any.whl (45 kB)\n",
            "\u001b[2K     \u001b[90m━━━━━━━━━━━━━━━━━━━━━━━━━━━━━━━━━━━━━━━━\u001b[0m \u001b[32m45.7/45.7 kB\u001b[0m \u001b[31m3.4 MB/s\u001b[0m eta \u001b[36m0:00:00\u001b[0m\n",
            "\u001b[?25hInstalling collected packages: python-multipart\n",
            "Successfully installed python-multipart-0.0.6\n"
          ]
        }
      ],
      "source": [
        "#installing dependencies\n",
        "!pip install fastapi\n",
        "!pip install pyngrok\n",
        "!pip install nest-asyncio\n",
        "!pip install uvicorn\n",
        "!pip install python-multipart"
      ]
    },
    {
      "cell_type": "code",
      "execution_count": 2,
      "metadata": {
        "id": "rh7QZGRJbvC8"
      },
      "outputs": [],
      "source": [
        "import os\n",
        "import numpy as np\n",
        "from PIL import Image\n",
        "import pickle"
      ]
    },
    {
      "cell_type": "code",
      "execution_count": null,
      "metadata": {
        "id": "vznd03K4Bwu5"
      },
      "outputs": [],
      "source": [
        "from fastapi import FastAPI\n",
        "import json\n",
        "from pyngrok import ngrok\n",
        "import nest_asyncio\n",
        "from fastapi.middleware.cors import CORSMiddleware\n",
        "import io\n",
        "import uvicorn\n",
        "import base64\n",
        "from fastapi import FastAPI, File, UploadFile, Request\n",
        "from fastapi.responses import JSONResponse"
      ]
    },
    {
      "cell_type": "markdown",
      "source": [
        "<h2 align =\"center\">Importing all the models as well as compressors and scalers</h2>"
      ],
      "metadata": {
        "id": "s7Yfbr6AuFZZ"
      }
    },
    {
      "cell_type": "code",
      "execution_count": 15,
      "metadata": {
        "id": "AI1JOWxsPhwq"
      },
      "outputs": [],
      "source": [
        "\n",
        "with open('/content/drive/MyDrive/Data/scaler_model.pkl', 'rb') as f:\n",
        "    scaler_model = pickle.load(f)"
      ]
    },
    {
      "cell_type": "code",
      "execution_count": 14,
      "metadata": {
        "id": "hTS88nPIP6CL"
      },
      "outputs": [],
      "source": [
        "with open('/content/drive/MyDrive/Data/pca_model.pkl', 'rb') as f:\n",
        "    compressor = pickle.load(f)"
      ]
    },
    {
      "cell_type": "code",
      "execution_count": 13,
      "metadata": {
        "id": "G5SPu4buWmoW"
      },
      "outputs": [],
      "source": [
        "with open('/content/drive/MyDrive/Data/svm_model.pkl', 'rb') as f:\n",
        "    SVM = pickle.load(f)"
      ]
    },
    {
      "cell_type": "code",
      "execution_count": 9,
      "metadata": {
        "id": "nYhV2bjZW-JX"
      },
      "outputs": [],
      "source": [
        "with open('/content/drive/MyDrive/Data/knn_model.pkl', 'rb') as f:\n",
        "    KNN = pickle.load(f)"
      ]
    },
    {
      "cell_type": "code",
      "execution_count": 3,
      "metadata": {
        "id": "CmJ5VwaxfsuN"
      },
      "outputs": [],
      "source": [
        "with open('/content/drive/MyDrive/Data/NN.pkl', 'rb') as f:\n",
        "    NN = pickle.load(f)"
      ]
    },
    {
      "cell_type": "code",
      "execution_count": 16,
      "metadata": {
        "id": "TXRF2nYHCSLp"
      },
      "outputs": [],
      "source": [
        "with open('/content/drive/MyDrive/Data/random_forest.pkl', 'rb') as f:\n",
        "    RF = pickle.load(f)"
      ]
    },
    {
      "cell_type": "code",
      "execution_count": null,
      "metadata": {
        "id": "1fJ0tJ7JCc6Q"
      },
      "outputs": [],
      "source": [
        "with open('/content/drive/MyDrive/Data/random_forest_pca.pkl', 'rb') as f:\n",
        "    RF_pca = pickle.load(f)\n",
        "selected_features = np.load('/content/drive/MyDrive/Data/selected_features.npy')"
      ]
    },
    {
      "cell_type": "code",
      "execution_count": 17,
      "metadata": {
        "id": "Y6MYuJr1DavI"
      },
      "outputs": [],
      "source": [
        "#random forest predictor\n",
        "def Rf_predicion(arr):\n",
        "  a4 = RF_pca.transform(arr)\n",
        "  a5 = a4[:, selected_features]\n",
        "  return RF.predict(a5)"
      ]
    },
    {
      "cell_type": "markdown",
      "source": [
        "<h2 align =\"center\">Starting the server</h2>"
      ],
      "metadata": {
        "id": "mjHzrqYPueFk"
      }
    },
    {
      "cell_type": "code",
      "execution_count": null,
      "metadata": {
        "id": "8UFtQ8hQHV_x"
      },
      "outputs": [],
      "source": [
        "#api\n",
        "app = FastAPI()"
      ]
    },
    {
      "cell_type": "code",
      "execution_count": null,
      "metadata": {
        "id": "4x-qn_hNw2u3"
      },
      "outputs": [],
      "source": [
        "app.add_middleware(\n",
        "    CORSMiddleware,\n",
        "    allow_origins=[\"*\"],\n",
        "    allow_credentials=True,\n",
        "    allow_methods=[\"*\"],\n",
        "    allow_headers=[\"*\"],\n",
        ")"
      ]
    },
    {
      "cell_type": "code",
      "execution_count": null,
      "metadata": {
        "id": "18uimb5LUHl4"
      },
      "outputs": [],
      "source": [
        "@app.post(\"/\")\n",
        "async def index(request: Request):\n",
        "    \n",
        "    data = await request.json()\n",
        "    image_data = data['image']\n",
        "    image_data = image_data.split(',')[1]\n",
        "    image_bytes = base64.b64decode(image_data)\n",
        "    image = Image.open(io.BytesIO(image_bytes))\n",
        "    # image_resized = image.resize((89401, 1)) # Resize to 89401 * 1 pixels\n",
        "    \n",
        "    image_array = np.array(image)\n",
        "    image_flattened = image_array.flatten() # Flatten the image into a 1D array\n",
        "    \n",
        "    print('IMAGE: ',image_flattened)\n",
        "    #image_flattened is the array u need to use Itqan, its the array\n",
        "    \n",
        "    a2 = scaler_model.transform([image_flattened])\n",
        "    a3 = compressor.transform(a2)\n",
        "    a = SVM.predict(a3)\n",
        "    b = KNN.predict(a3)\n",
        "    c = NN.predict(a3)\n",
        "    d = Rf_predicion(a3)\n",
        "    c = 2*c\n",
        "    majority = np.zeros_like(a)\n",
        "    #majority voting\n",
        "    majority[(a+b+c+d)>=3] = 1\n",
        "    print(\"Neural: \",a)\n",
        "    print(\"KNN: \",b)\n",
        "    print(\"SVM: \",c)\n",
        "    print(\"RF: \",d)\n",
        "    if majority[0] == 1:\n",
        "        print(\"Positive\")\n",
        "        return JSONResponse({'result': True})\n",
        "    else:\n",
        "        print(\"Negative\")\n",
        "        return JSONResponse({'result': False})\n",
        "\n",
        "\n",
        "\n",
        "    # Return the prediction as JSON\n",
        "    # if prediction == 0:\n",
        "    #     return JSONResponse({'result': 'healthy lungs'})\n",
        "    # else:\n",
        "    #     return JSONResponse({'result': 'COVID-19 lungs'})\n",
        "\n"
      ]
    },
    {
      "cell_type": "code",
      "execution_count": null,
      "metadata": {
        "colab": {
          "background_save": true
        },
        "id": "DXoIcVcPeP43"
      },
      "outputs": [],
      "source": [
        "ngrok_tunnel = ngrok.connect(8000)\n",
        "print('Public URL:', ngrok_tunnel.public_url)\n",
        "nest_asyncio.apply()\n",
        "uvicorn.run(app, port=8000)"
      ]
    },
    {
      "cell_type": "code",
      "execution_count": null,
      "metadata": {
        "id": "tGidEOVEGKwr"
      },
      "outputs": [],
      "source": []
    }
  ],
  "metadata": {
    "colab": {
      "provenance": []
    },
    "gpuClass": "standard",
    "kernelspec": {
      "display_name": "Python 3",
      "name": "python3"
    },
    "language_info": {
      "name": "python"
    }
  },
  "nbformat": 4,
  "nbformat_minor": 0
}